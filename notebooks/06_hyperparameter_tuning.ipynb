{
 "cells": [
  {
   "cell_type": "markdown",
   "id": "cac99b99",
   "metadata": {},
   "source": [
    "# 06 - Hyperparameter Tuning & Final Export"
   ]
  },
  {
   "cell_type": "code",
   "execution_count": 1,
   "id": "71a55092",
   "metadata": {
    "execution": {
     "iopub.execute_input": "2025-09-17T12:56:37.299705Z",
     "iopub.status.busy": "2025-09-17T12:56:37.299705Z",
     "iopub.status.idle": "2025-09-17T12:56:48.423936Z",
     "shell.execute_reply": "2025-09-17T12:56:48.423936Z"
    }
   },
   "outputs": [
    {
     "name": "stdout",
     "output_type": "stream",
     "text": [
      "Fitting 5 folds for each of 25 candidates, totalling 125 fits\n"
     ]
    },
    {
     "name": "stdout",
     "output_type": "stream",
     "text": [
      "Fitting 5 folds for each of 12 candidates, totalling 60 fits\n",
      "RF best AUC (CV): 1.0\n",
      "SVM best AUC (CV): 1.0\n",
      "✅ Exported final model to C:\\Users\\Moamen\\Desktop\\Heart_Disease_Project\\Heart_Disease_Project\\models\\final_model.pkl\n"
     ]
    }
   ],
   "source": [
    "import pandas as pd, numpy as np, joblib\n",
    "from pathlib import Path\n",
    "from sklearn.model_selection import train_test_split, GridSearchCV, RandomizedSearchCV\n",
    "from sklearn.preprocessing import StandardScaler, OneHotEncoder\n",
    "from sklearn.compose import ColumnTransformer\n",
    "from sklearn.pipeline import Pipeline\n",
    "from sklearn.impute import SimpleImputer\n",
    "from sklearn.ensemble import RandomForestClassifier\n",
    "from sklearn.svm import SVC\n",
    "from scipy.stats import randint, uniform\n",
    "\n",
    "CLEAN_PATH = Path.cwd().parents[0] / 'data' / 'heart_disease_clean.csv'\n",
    "df = pd.read_csv(CLEAN_PATH)\n",
    "\n",
    "X = df.drop(columns=['target'])\n",
    "y = df['target']\n",
    "\n",
    "num_cols = X.select_dtypes(include=[np.number]).columns.tolist()\n",
    "cat_cols = [c for c in X.columns if c not in num_cols]\n",
    "\n",
    "preprocess = ColumnTransformer(transformers=[\n",
    "    ('num', Pipeline(steps=[('imputer', SimpleImputer(strategy='median')),\n",
    "                           ('scaler', StandardScaler())]), num_cols),\n",
    "    ('cat', Pipeline(steps=[('imputer', SimpleImputer(strategy='most_frequent')),\n",
    "                            ('onehot', OneHotEncoder(handle_unknown='ignore'))]), cat_cols)\n",
    "])\n",
    "\n",
    "X_train, X_test, y_train, y_test = train_test_split(X, y, test_size=0.2, random_state=42, stratify=y)\n",
    "\n",
    "# Candidate 1: RandomForest with RandomizedSearch\n",
    "rf = RandomForestClassifier(random_state=42)\n",
    "rf_params = {\n",
    "    'clf__n_estimators': randint(200, 600),\n",
    "    'clf__max_depth': randint(3, 20),\n",
    "    'clf__min_samples_split': randint(2, 20),\n",
    "    'clf__min_samples_leaf': randint(1, 10)\n",
    "}\n",
    "rf_pipe = Pipeline(steps=[('prep', preprocess), ('clf', rf)])\n",
    "rf_search = RandomizedSearchCV(rf_pipe, rf_params, n_iter=25, cv=5, scoring='roc_auc', n_jobs=-1, random_state=42, verbose=1)\n",
    "rf_search.fit(X_train, y_train)\n",
    "\n",
    "# Candidate 2: SVM with GridSearch\n",
    "svm = SVC(probability=True, random_state=42)\n",
    "svm_params = {\n",
    "    'clf__C': [0.1, 1, 3, 10],\n",
    "    'clf__gamma': ['scale', 0.01, 0.001],\n",
    "    'clf__kernel': ['rbf']\n",
    "}\n",
    "svm_pipe = Pipeline(steps=[('prep', preprocess), ('clf', svm)])\n",
    "svm_grid = GridSearchCV(svm_pipe, svm_params, cv=5, scoring='roc_auc', n_jobs=-1, verbose=1)\n",
    "svm_grid.fit(X_train, y_train)\n",
    "\n",
    "best_rf_auc = rf_search.best_score_\n",
    "best_svm_auc = svm_grid.best_score_\n",
    "\n",
    "print('RF best AUC (CV):', best_rf_auc)\n",
    "print('SVM best AUC (CV):', best_svm_auc)\n",
    "\n",
    "best_model = rf_search.best_estimator_ if best_rf_auc >= best_svm_auc else svm_grid.best_estimator_\n",
    "\n",
    "final_path = Path.cwd().parents[0] / 'models' / 'final_model.pkl'\n",
    "joblib.dump(best_model, final_path)\n",
    "print('✅ Exported final model to', final_path)\n"
   ]
  }
 ],
 "metadata": {
  "kernelspec": {
   "display_name": ".venv",
   "language": "python",
   "name": "python3"
  },
  "language_info": {
   "codemirror_mode": {
    "name": "ipython",
    "version": 3
   },
   "file_extension": ".py",
   "mimetype": "text/x-python",
   "name": "python",
   "nbconvert_exporter": "python",
   "pygments_lexer": "ipython3",
   "version": "3.12.0"
  }
 },
 "nbformat": 4,
 "nbformat_minor": 5
}
